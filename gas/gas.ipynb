{
 "cells": [
  {
   "cell_type": "code",
   "execution_count": 1,
   "metadata": {},
   "outputs": [],
   "source": [
    "import pandas as pd\n",
    "import numpy as np"
   ]
  },
  {
   "cell_type": "code",
   "execution_count": 2,
   "metadata": {},
   "outputs": [],
   "source": [
    "df_gas = pd.read_csv('gas.csv')"
   ]
  },
  {
   "cell_type": "code",
   "execution_count": 3,
   "metadata": {},
   "outputs": [
    {
     "data": {
      "text/html": [
       "<div>\n",
       "<style scoped>\n",
       "    .dataframe tbody tr th:only-of-type {\n",
       "        vertical-align: middle;\n",
       "    }\n",
       "\n",
       "    .dataframe tbody tr th {\n",
       "        vertical-align: top;\n",
       "    }\n",
       "\n",
       "    .dataframe thead th {\n",
       "        text-align: right;\n",
       "    }\n",
       "</style>\n",
       "<table border=\"1\" class=\"dataframe\">\n",
       "  <thead>\n",
       "    <tr style=\"text-align: right;\">\n",
       "      <th></th>\n",
       "      <th>Date</th>\n",
       "      <th>SAP actual day\\n(p/kWh)</th>\n",
       "      <th>SAP preceding seven-day rolling average\\n(p/kWh)</th>\n",
       "    </tr>\n",
       "  </thead>\n",
       "  <tbody>\n",
       "    <tr>\n",
       "      <th>0</th>\n",
       "      <td>1 Jan 2018</td>\n",
       "      <td>1.708</td>\n",
       "      <td>1.847</td>\n",
       "    </tr>\n",
       "    <tr>\n",
       "      <th>1</th>\n",
       "      <td>2 Jan 2018</td>\n",
       "      <td>1.733</td>\n",
       "      <td>1.832</td>\n",
       "    </tr>\n",
       "    <tr>\n",
       "      <th>2</th>\n",
       "      <td>3 Jan 2018</td>\n",
       "      <td>1.766</td>\n",
       "      <td>1.802</td>\n",
       "    </tr>\n",
       "    <tr>\n",
       "      <th>3</th>\n",
       "      <td>4 Jan 2018</td>\n",
       "      <td>1.772</td>\n",
       "      <td>1.784</td>\n",
       "    </tr>\n",
       "    <tr>\n",
       "      <th>4</th>\n",
       "      <td>5 Jan 2018</td>\n",
       "      <td>1.760</td>\n",
       "      <td>1.761</td>\n",
       "    </tr>\n",
       "  </tbody>\n",
       "</table>\n",
       "</div>"
      ],
      "text/plain": [
       "         Date  SAP actual day\\n(p/kWh)  \\\n",
       "0  1 Jan 2018                    1.708   \n",
       "1  2 Jan 2018                    1.733   \n",
       "2  3 Jan 2018                    1.766   \n",
       "3  4 Jan 2018                    1.772   \n",
       "4  5 Jan 2018                    1.760   \n",
       "\n",
       "   SAP preceding seven-day rolling average\\n(p/kWh)  \n",
       "0                                             1.847  \n",
       "1                                             1.832  \n",
       "2                                             1.802  \n",
       "3                                             1.784  \n",
       "4                                             1.761  "
      ]
     },
     "execution_count": 3,
     "metadata": {},
     "output_type": "execute_result"
    }
   ],
   "source": [
    "df_gas.head()"
   ]
  },
  {
   "cell_type": "code",
   "execution_count": 4,
   "metadata": {},
   "outputs": [],
   "source": [
    "df_gas_long = pd.melt(df_gas, id_vars=[\"Date\"])"
   ]
  },
  {
   "cell_type": "code",
   "execution_count": 5,
   "metadata": {},
   "outputs": [],
   "source": [
    "df_gas_long['geography_code'] = 'K03000001'"
   ]
  },
  {
   "cell_type": "code",
   "execution_count": 6,
   "metadata": {},
   "outputs": [],
   "source": [
    "df_gas_long['geography_label'] = 'Great Britain'"
   ]
  },
  {
   "cell_type": "code",
   "execution_count": 7,
   "metadata": {},
   "outputs": [],
   "source": [
    "df_gas_long['period_type'] = 'day'"
   ]
  },
  {
   "cell_type": "code",
   "execution_count": 8,
   "metadata": {},
   "outputs": [],
   "source": [
    "df_gas_long['Date'] = pd.to_datetime(df_gas_long['Date']).dt.strftime('%Y-%m-%d')"
   ]
  },
  {
   "cell_type": "code",
   "execution_count": 9,
   "metadata": {},
   "outputs": [],
   "source": [
    "df_gas_long = df_gas_long.rename(columns={\"Date\": \"period_code\",\"variable\":\"measure\", \"value\":\"observation\"})"
   ]
  },
  {
   "cell_type": "code",
   "execution_count": 10,
   "metadata": {},
   "outputs": [],
   "source": [
    "df_gas_long['unit']= 'p/kWh'"
   ]
  },
  {
   "cell_type": "code",
   "execution_count": 11,
   "metadata": {},
   "outputs": [],
   "source": [
    "df_gas_long['period_label']= df_gas_long['period_code']"
   ]
  },
  {
   "cell_type": "code",
   "execution_count": 12,
   "metadata": {},
   "outputs": [],
   "source": [
    "df_gas_long = df_gas_long[[\"period_code\",\"period_label\",\"period_type\",\"geography_code\",\"geography_label\", \"observation\",\"measure\", \"unit\"]]"
   ]
  },
  {
   "cell_type": "code",
   "execution_count": 13,
   "metadata": {},
   "outputs": [
    {
     "data": {
      "text/html": [
       "<div>\n",
       "<style scoped>\n",
       "    .dataframe tbody tr th:only-of-type {\n",
       "        vertical-align: middle;\n",
       "    }\n",
       "\n",
       "    .dataframe tbody tr th {\n",
       "        vertical-align: top;\n",
       "    }\n",
       "\n",
       "    .dataframe thead th {\n",
       "        text-align: right;\n",
       "    }\n",
       "</style>\n",
       "<table border=\"1\" class=\"dataframe\">\n",
       "  <thead>\n",
       "    <tr style=\"text-align: right;\">\n",
       "      <th></th>\n",
       "      <th>period_code</th>\n",
       "      <th>period_label</th>\n",
       "      <th>period_type</th>\n",
       "      <th>geography_code</th>\n",
       "      <th>geography_label</th>\n",
       "      <th>observation</th>\n",
       "      <th>measure</th>\n",
       "      <th>unit</th>\n",
       "    </tr>\n",
       "  </thead>\n",
       "  <tbody>\n",
       "    <tr>\n",
       "      <th>0</th>\n",
       "      <td>2018-01-01</td>\n",
       "      <td>2018-01-01</td>\n",
       "      <td>day</td>\n",
       "      <td>K03000001</td>\n",
       "      <td>Great Britain</td>\n",
       "      <td>1.708</td>\n",
       "      <td>SAP actual day\\n(p/kWh)</td>\n",
       "      <td>p/kWh</td>\n",
       "    </tr>\n",
       "    <tr>\n",
       "      <th>1</th>\n",
       "      <td>2018-01-02</td>\n",
       "      <td>2018-01-02</td>\n",
       "      <td>day</td>\n",
       "      <td>K03000001</td>\n",
       "      <td>Great Britain</td>\n",
       "      <td>1.733</td>\n",
       "      <td>SAP actual day\\n(p/kWh)</td>\n",
       "      <td>p/kWh</td>\n",
       "    </tr>\n",
       "    <tr>\n",
       "      <th>2</th>\n",
       "      <td>2018-01-03</td>\n",
       "      <td>2018-01-03</td>\n",
       "      <td>day</td>\n",
       "      <td>K03000001</td>\n",
       "      <td>Great Britain</td>\n",
       "      <td>1.766</td>\n",
       "      <td>SAP actual day\\n(p/kWh)</td>\n",
       "      <td>p/kWh</td>\n",
       "    </tr>\n",
       "    <tr>\n",
       "      <th>3</th>\n",
       "      <td>2018-01-04</td>\n",
       "      <td>2018-01-04</td>\n",
       "      <td>day</td>\n",
       "      <td>K03000001</td>\n",
       "      <td>Great Britain</td>\n",
       "      <td>1.772</td>\n",
       "      <td>SAP actual day\\n(p/kWh)</td>\n",
       "      <td>p/kWh</td>\n",
       "    </tr>\n",
       "    <tr>\n",
       "      <th>4</th>\n",
       "      <td>2018-01-05</td>\n",
       "      <td>2018-01-05</td>\n",
       "      <td>day</td>\n",
       "      <td>K03000001</td>\n",
       "      <td>Great Britain</td>\n",
       "      <td>1.760</td>\n",
       "      <td>SAP actual day\\n(p/kWh)</td>\n",
       "      <td>p/kWh</td>\n",
       "    </tr>\n",
       "  </tbody>\n",
       "</table>\n",
       "</div>"
      ],
      "text/plain": [
       "  period_code period_label period_type geography_code geography_label  \\\n",
       "0  2018-01-01   2018-01-01         day      K03000001   Great Britain   \n",
       "1  2018-01-02   2018-01-02         day      K03000001   Great Britain   \n",
       "2  2018-01-03   2018-01-03         day      K03000001   Great Britain   \n",
       "3  2018-01-04   2018-01-04         day      K03000001   Great Britain   \n",
       "4  2018-01-05   2018-01-05         day      K03000001   Great Britain   \n",
       "\n",
       "   observation                  measure   unit  \n",
       "0        1.708  SAP actual day\\n(p/kWh)  p/kWh  \n",
       "1        1.733  SAP actual day\\n(p/kWh)  p/kWh  \n",
       "2        1.766  SAP actual day\\n(p/kWh)  p/kWh  \n",
       "3        1.772  SAP actual day\\n(p/kWh)  p/kWh  \n",
       "4        1.760  SAP actual day\\n(p/kWh)  p/kWh  "
      ]
     },
     "execution_count": 13,
     "metadata": {},
     "output_type": "execute_result"
    }
   ],
   "source": [
    "df_gas_long.head()"
   ]
  },
  {
   "cell_type": "code",
   "execution_count": 15,
   "metadata": {},
   "outputs": [],
   "source": [
    "df_gas_long['measure'] = df_gas_long['measure'].map(lambda x: x.rstrip('\\n(p/kWh)'))"
   ]
  },
  {
   "cell_type": "code",
   "execution_count": 16,
   "metadata": {},
   "outputs": [
    {
     "data": {
      "text/html": [
       "<div>\n",
       "<style scoped>\n",
       "    .dataframe tbody tr th:only-of-type {\n",
       "        vertical-align: middle;\n",
       "    }\n",
       "\n",
       "    .dataframe tbody tr th {\n",
       "        vertical-align: top;\n",
       "    }\n",
       "\n",
       "    .dataframe thead th {\n",
       "        text-align: right;\n",
       "    }\n",
       "</style>\n",
       "<table border=\"1\" class=\"dataframe\">\n",
       "  <thead>\n",
       "    <tr style=\"text-align: right;\">\n",
       "      <th></th>\n",
       "      <th>period_code</th>\n",
       "      <th>period_label</th>\n",
       "      <th>period_type</th>\n",
       "      <th>geography_code</th>\n",
       "      <th>geography_label</th>\n",
       "      <th>observation</th>\n",
       "      <th>measure</th>\n",
       "      <th>unit</th>\n",
       "    </tr>\n",
       "  </thead>\n",
       "  <tbody>\n",
       "    <tr>\n",
       "      <th>0</th>\n",
       "      <td>2018-01-01</td>\n",
       "      <td>2018-01-01</td>\n",
       "      <td>day</td>\n",
       "      <td>K03000001</td>\n",
       "      <td>Great Britain</td>\n",
       "      <td>1.708</td>\n",
       "      <td>SAP actual day</td>\n",
       "      <td>p/kWh</td>\n",
       "    </tr>\n",
       "    <tr>\n",
       "      <th>1</th>\n",
       "      <td>2018-01-02</td>\n",
       "      <td>2018-01-02</td>\n",
       "      <td>day</td>\n",
       "      <td>K03000001</td>\n",
       "      <td>Great Britain</td>\n",
       "      <td>1.733</td>\n",
       "      <td>SAP actual day</td>\n",
       "      <td>p/kWh</td>\n",
       "    </tr>\n",
       "    <tr>\n",
       "      <th>2</th>\n",
       "      <td>2018-01-03</td>\n",
       "      <td>2018-01-03</td>\n",
       "      <td>day</td>\n",
       "      <td>K03000001</td>\n",
       "      <td>Great Britain</td>\n",
       "      <td>1.766</td>\n",
       "      <td>SAP actual day</td>\n",
       "      <td>p/kWh</td>\n",
       "    </tr>\n",
       "    <tr>\n",
       "      <th>3</th>\n",
       "      <td>2018-01-04</td>\n",
       "      <td>2018-01-04</td>\n",
       "      <td>day</td>\n",
       "      <td>K03000001</td>\n",
       "      <td>Great Britain</td>\n",
       "      <td>1.772</td>\n",
       "      <td>SAP actual day</td>\n",
       "      <td>p/kWh</td>\n",
       "    </tr>\n",
       "    <tr>\n",
       "      <th>4</th>\n",
       "      <td>2018-01-05</td>\n",
       "      <td>2018-01-05</td>\n",
       "      <td>day</td>\n",
       "      <td>K03000001</td>\n",
       "      <td>Great Britain</td>\n",
       "      <td>1.760</td>\n",
       "      <td>SAP actual day</td>\n",
       "      <td>p/kWh</td>\n",
       "    </tr>\n",
       "  </tbody>\n",
       "</table>\n",
       "</div>"
      ],
      "text/plain": [
       "  period_code period_label period_type geography_code geography_label  \\\n",
       "0  2018-01-01   2018-01-01         day      K03000001   Great Britain   \n",
       "1  2018-01-02   2018-01-02         day      K03000001   Great Britain   \n",
       "2  2018-01-03   2018-01-03         day      K03000001   Great Britain   \n",
       "3  2018-01-04   2018-01-04         day      K03000001   Great Britain   \n",
       "4  2018-01-05   2018-01-05         day      K03000001   Great Britain   \n",
       "\n",
       "   observation         measure   unit  \n",
       "0        1.708  SAP actual day  p/kWh  \n",
       "1        1.733  SAP actual day  p/kWh  \n",
       "2        1.766  SAP actual day  p/kWh  \n",
       "3        1.772  SAP actual day  p/kWh  \n",
       "4        1.760  SAP actual day  p/kWh  "
      ]
     },
     "execution_count": 16,
     "metadata": {},
     "output_type": "execute_result"
    }
   ],
   "source": [
    "df_gas_long.head()"
   ]
  },
  {
   "cell_type": "code",
   "execution_count": null,
   "metadata": {},
   "outputs": [],
   "source": []
  }
 ],
 "metadata": {
  "kernelspec": {
   "display_name": "Python 3",
   "language": "python",
   "name": "python3"
  },
  "language_info": {
   "codemirror_mode": {
    "name": "ipython",
    "version": 3
   },
   "file_extension": ".py",
   "mimetype": "text/x-python",
   "name": "python",
   "nbconvert_exporter": "python",
   "pygments_lexer": "ipython3",
   "version": "3.10.3"
  }
 },
 "nbformat": 4,
 "nbformat_minor": 2
}
